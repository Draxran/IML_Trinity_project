{
 "cells": [
  {
   "cell_type": "code",
   "execution_count": 1,
   "metadata": {},
   "outputs": [],
   "source": [
    "import numpy as np\n",
    "import pandas as pd\n",
    "import matplotlib.pyplot as plt\n",
    "from sklearn.linear_model import LinearRegression \n",
    "from sklearn.metrics import mean_squared_error"
   ]
  },
  {
   "cell_type": "code",
   "execution_count": 2,
   "metadata": {},
   "outputs": [],
   "source": [
    "train_X_dataframe = pd.read_csv('train.csv') #Read data for train and test sets\n",
    "test_X_dataframe = pd.read_csv('test.csv')\n",
    "\n",
    "train_data_Y = np.genfromtxt('train.csv', delimiter=',', skip_header=1,usecols=(1))\n",
    "\n",
    "train_data_X = train_X_dataframe.drop(columns=['Id','y']).to_numpy()\n",
    "test_data_X = test_X_dataframe.drop(columns=['Id']).to_numpy()"
   ]
  },
  {
   "cell_type": "code",
   "execution_count": 3,
   "metadata": {},
   "outputs": [],
   "source": [
    "linear_regressor = LinearRegression() #Get result from Linear Regression\n",
    "linear_regressor.fit(train_data_X, train_data_Y)\n",
    "test_predict = linear_regressor.predict(test_data_X)\n"
   ]
  },
  {
   "cell_type": "code",
   "execution_count": 4,
   "metadata": {},
   "outputs": [
    {
     "data": {
      "text/plain": [
       "1.2043452860752983e-24"
      ]
     },
     "execution_count": 4,
     "metadata": {},
     "output_type": "execute_result"
    }
   ],
   "source": [
    "test_mean = test_data_X.mean(axis=1) #Check if result is okay with task description\n",
    "mean_squared_error(test_mean, test_predict)"
   ]
  },
  {
   "cell_type": "code",
   "execution_count": 5,
   "metadata": {},
   "outputs": [],
   "source": [
    "Results = test_X_dataframe[['Id']].copy() #Save results as desired output file in appropriate format\n",
    "Results['y'] = pd.Series(test_predict)\n",
    "Results.to_csv(\"Dummy_Predict_Wojcikiewicz.csv\",index=False)"
   ]
  },
  {
   "cell_type": "code",
   "execution_count": null,
   "metadata": {},
   "outputs": [],
   "source": []
  }
 ],
 "metadata": {
  "kernelspec": {
   "display_name": "Python 3",
   "language": "python",
   "name": "python3"
  },
  "language_info": {
   "codemirror_mode": {
    "name": "ipython",
    "version": 3
   },
   "file_extension": ".py",
   "mimetype": "text/x-python",
   "name": "python",
   "nbconvert_exporter": "python",
   "pygments_lexer": "ipython3",
   "version": "3.8.3"
  }
 },
 "nbformat": 4,
 "nbformat_minor": 4
}
